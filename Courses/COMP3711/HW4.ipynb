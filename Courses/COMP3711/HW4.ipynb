{
 "cells": [
  {
   "cell_type": "code",
   "execution_count": 40,
   "metadata": {},
   "outputs": [
    {
     "data": {
      "text/plain": [
       "2"
      ]
     },
     "execution_count": 40,
     "metadata": {},
     "output_type": "execute_result"
    }
   ],
   "source": [
    "class Solution:\n",
    "    def longestValidParentheses(self, s: str) -> int:            \n",
    "        maxi = 0\n",
    "        dp = [0 for _ in range(len(s))]\n",
    "        for i in range(len(s)):\n",
    "            if s[i] == \")\":\n",
    "                if (i-1)>0 and s[i-1] == \"(\":\n",
    "                    dp[i] = dp[i-2] + 2\n",
    "                elif (i-1)>0 and s[i-1] == \")\" and i-dp[i-1]-1>=0 and s[i-dp[i-1]-1] == \"(\":\n",
    "                    dp[i] = dp[i-1] + dp[i-dp[i-1]-2] + 2\n",
    "        maxi = max(dp)\n",
    "        return maxi\n",
    "\n",
    "class Solution2:\n",
    "    def longestValidParentheses(self, s: str) -> int:            \n",
    "        maxLength = 0\n",
    "        stack = [-1] \n",
    "        # 下面是错误的！！！ 起始元素应该使用第一个右括号，栈底的元素表示上一个分割符，也就是第一个invalid的)\n",
    "        \n",
    "        #初始元素表示第一个invalid字符后，计算第一串valid substring时使用的起始位置\n",
    "        #这样就可以不需要手动判断什么时候中断，直接用stack拿完了来判断一段valid结束\n",
    "        #stack的最下层元素表示 \"当前处理的元素对应的valid substring, 的最小可能起始位置\"\n",
    "        currentLength = 0\n",
    "        for i in range(len(s)):\n",
    "            if s[i] == \"(\":\n",
    "                stack.append(i)\n",
    "            else:\n",
    "                this = stack.pop() # NOTE: 这里match是当前的)对应的(，但并不是对应的最长的substring的起始位置\n",
    "                if len(stack)==0:\n",
    "                    stack.append(i) #当前字符把stack拿空了，所以invalid。将当前字符设为上一个invalid字符\n",
    "                else:\n",
    "                    # NOTE: 在stack size>0的情况下，栈顶的元素就表示了当前的valid substring的起始位置\n",
    "                    # (()的情况下栈顶的元素会是1，而()()的情况下栈顶的元素会是0\n",
    "                    maxLength = max(maxLength, i-stack[-1]) \n",
    "                    # i-this+1是错误的！这匹配的当前valid string中的最近一个括号\n",
    "\n",
    "        \n",
    "        return maxLength\n",
    "    \n",
    "# class Solution3:\n",
    "#     def longestValidParentheses(self, s: str) -> int:  \n",
    "#         v[i,j] = []\n",
    "\n",
    "#         int stack=0\n",
    "\n",
    "#         def stack.log(char c): // const time \n",
    "#             if c=='(':\n",
    "#                 stack++\n",
    "#             else\n",
    "#                 stack-- \n",
    "\n",
    "#         for i in range(n): // O(n) times\n",
    "#             stack = 0\n",
    "#             for j in range(i,n) // O(n) times\n",
    "#                 stack.set(s[j])\n",
    "#                 v[i,j] = stack==0\n",
    "\n",
    "#         for i in range(n): // n times\n",
    "#             for j from n to i // n times\n",
    "#                 if v[i,j] == true:\n",
    "#                     return j-i+1\n",
    "\n",
    "\n",
    "solution = Solution2()\n",
    "solution.longestValidParentheses(\"()()\")\n",
    "\n"
   ]
  },
  {
   "cell_type": "code",
   "execution_count": 59,
   "metadata": {},
   "outputs": [
    {
     "data": {
      "text/plain": [
       "8"
      ]
     },
     "execution_count": 59,
     "metadata": {},
     "output_type": "execute_result"
    }
   ],
   "source": [
    "def longest_valid_subsequence(s):\n",
    "    n = len(s)\n",
    "    dp = [0] * n\n",
    "    stack = 0\n",
    "    \n",
    "    def push():\n",
    "        nonlocal stack\n",
    "        stack += 1\n",
    "    \n",
    "    def pop():\n",
    "        nonlocal stack\n",
    "        if stack > 0:\n",
    "            stack -= 1\n",
    "            return True\n",
    "        return False\n",
    "    \n",
    "    past_max = 0\n",
    "    for i in range(n): # O(n) times\n",
    "        if s[i] == ')':\n",
    "            if pop():\n",
    "                dp[i] = past_max + 2\n",
    "                past_max = dp[i]\n",
    "        else:\n",
    "            push()\n",
    "            dp[i] = past_max\n",
    "    \n",
    "    return max(dp)\n",
    "\n",
    "def solve(s):\n",
    "    n = len(s)\n",
    "    v = [[False] * n for _ in range(n)]\n",
    "\n",
    "    for i in range(n):\n",
    "        for j in range(i):\n",
    "            v[i][j] = True\n",
    "\n",
    "    for i in range(n-1, -1, -1):  # O(n) times\n",
    "        for j in range(i, n):    # O(n) times\n",
    "            if s[i] == '(' and s[j] == ')':\n",
    "                if i+1 <= j-1:\n",
    "                    v[i][j] = v[i+1][j-1]\n",
    "                else:\n",
    "                    v[i][j] = True\n",
    "\n",
    "                for k in range(i, j):  # O(n) times\n",
    "                    v[i][j] |= v[i][k] and v[k+1][j]\n",
    "            else:\n",
    "                v[i][j] = False\n",
    "\n",
    "    max_len = 0\n",
    "    for i in range(n):  # O(n) times\n",
    "        for j in range(i, n):  # O(n) times\n",
    "            if v[i][j]:\n",
    "                max_len = max(max_len, j-i+1)\n",
    "\n",
    "    return max_len\n",
    "\n",
    "solve(\"()()(()))\")"
   ]
  }
 ],
 "metadata": {
  "kernelspec": {
   "display_name": "Python 3",
   "language": "python",
   "name": "python3"
  },
  "language_info": {
   "codemirror_mode": {
    "name": "ipython",
    "version": 3
   },
   "file_extension": ".py",
   "mimetype": "text/x-python",
   "name": "python",
   "nbconvert_exporter": "python",
   "pygments_lexer": "ipython3",
   "version": "3.9.6"
  }
 },
 "nbformat": 4,
 "nbformat_minor": 2
}
