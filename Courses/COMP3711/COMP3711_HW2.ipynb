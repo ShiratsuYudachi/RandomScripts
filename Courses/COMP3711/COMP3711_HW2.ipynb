{
 "cells": [
  {
   "cell_type": "code",
   "execution_count": 3,
   "metadata": {},
   "outputs": [],
   "source": [
    "k = 114\n",
    "n = 514\n",
    "A = []\n",
    "G = []\n",
    "def INIT(G):\n",
    "\tpass\n",
    "def COMPARE(a,b):\n",
    "\tpass\n",
    "def INCREASE(a,b):\n",
    "\tpass\n",
    "\n",
    "\n",
    "def count(start=1, end=n):\n",
    "\tif start==1 and end==n:\n",
    "\t\tINIT(G)\n",
    "\t\n",
    "\t# base case\n",
    "\tif end<start :\n",
    "\t\treturn\n",
    "\t\n",
    "\t# notation // means floor devision\n",
    "\tmid = (start+end)//2\n",
    "\t\n",
    "\tif mid==n :\n",
    "\t\tINCREASE(mid,mid)\n",
    "\t\n",
    "\t# if A[mid] and A[mid+1] is not in same group\n",
    "\tif not COMPARE(mid,mid+1):\n",
    "\t\t# codes here execute for k-1 times\n",
    "\t\tINCREASE(mid,mid)\n",
    "\t\tINCREASE(mid+1,-mid)\n",
    "\t\n",
    "\tcount(start,mid-1)\n",
    "\tcount(mid+1,end)"
   ]
  },
  {
   "cell_type": "code",
   "execution_count": null,
   "metadata": {},
   "outputs": [],
   "source": []
  },
  {
   "cell_type": "code",
   "execution_count": 9,
   "metadata": {},
   "outputs": [
    {
     "ename": "IndentationError",
     "evalue": "unindent does not match any outer indentation level (<string>, line 25)",
     "output_type": "error",
     "traceback": [
      "\u001b[0;36m  File \u001b[0;32m<string>:25\u001b[0;36m\u001b[0m\n\u001b[0;31m    if start==end:\u001b[0m\n\u001b[0m                  ^\u001b[0m\n\u001b[0;31mIndentationError\u001b[0m\u001b[0;31m:\u001b[0m unindent does not match any outer indentation level\n"
     ]
    }
   ],
   "source": [
    "INIT(G)\n",
    "chunk_len = n//k\n",
    "for j in range(k): # from 0 to k-1, both inclusive\n",
    "\tcount(j*chunk_len+1,(j+1)*chunk_len if j<k-1 else n) # sepertate to k chunks, last chunk contain all remaining elements\n",
    "\n",
    "def count(start, end):\n",
    "    # base case\n",
    "    if end<start :\n",
    "        return\n",
    "\n",
    "    # notation // means floor devision\n",
    "    mid = (start+end)//2\n",
    "\n",
    "    # base case for last element\n",
    "    if mid==n: \n",
    "        INCREASE(mid,mid)\n",
    "\n",
    "    # if A[mid] and A[mid+1] is not in same group\n",
    "    if not COMPARE(mid,mid+1):\n",
    "        # codes here execute for k-1 times\n",
    "        INCREASE(mid,mid)\n",
    "        INCREASE(mid+1,-mid)\n",
    "\n",
    "    if start==end:\n",
    "        return\n",
    "    \n",
    "    count(start,mid)\n",
    "    count(mid+1,end)\n",
    "\n"
   ]
  },
  {
   "cell_type": "code",
   "execution_count": null,
   "metadata": {},
   "outputs": [],
   "source": [
    "from math import comb\n",
    "\n",
    "# 计算总的组合数\n",
    "total_combinations = comb(50, 3)\n",
    "\n",
    "# 计算满足条件的组合数\n",
    "valid_combinations = sum(comb(x-1, 2) for x in range(3, 51))  # x至少为3，因为我们需要从1到x-1中选2个数\n",
    "\n",
    "# 计算概率\n",
    "probability = valid_combinations / total_combinations\n",
    "total_combinations, valid_combinations, probability\n"
   ]
  },
  {
   "cell_type": "code",
   "execution_count": 5,
   "metadata": {},
   "outputs": [
    {
     "data": {
      "text/plain": [
       "[(2, 10),\n",
       " (3, 15),\n",
       " (9, 0),\n",
       " (9, 12),\n",
       " (12, 0),\n",
       " (15, 10),\n",
       " (19, 8),\n",
       " (20, 0),\n",
       " (24, 0)]"
      ]
     },
     "execution_count": 5,
     "metadata": {},
     "output_type": "execute_result"
    }
   ],
   "source": [
    "# Q5\n",
    "# 22:15\n",
    "\n",
    "R_sets = ((2,9,10),(3,7,15),(5,12,12),(15,20,10),(19,24,8))\n",
    "\n",
    "\n",
    "def isInside_pair(gamma, gamma_pair):\n",
    "    # gamma_pair[0] is the left-top point of a rectangle, [1] is the right-bottom point\n",
    "    # denote them as lTop and rBottom\n",
    "    # if lTop.y>gamma.y and lTop.x<gamma.x<rBottom.x\n",
    "    if gamma_pair[0][1]>gamma[1] and (gamma_pair[0][0]<gamma[0]<gamma_pair[1][0]):\n",
    "        return True\n",
    "    return False\n",
    "    # Linear time\n",
    "\n",
    "def find_terminators(gamma_array):\n",
    "    terminators = []\n",
    "    for i in range(len(gamma_array)):\n",
    "        if gamma_array[i][1] == 0:\n",
    "            terminators.append(i)\n",
    "    return terminators\n",
    "    # O(gamma_array)\n",
    "\n",
    "def isInside(gamma, gamma_array):\n",
    "    ends = find_terminators(gamma_array)\n",
    "    start = 1\n",
    "    for end in ends:\n",
    "        for i in range(start,end):\n",
    "            if isInside_pair(gamma,[gamma_array[i],gamma_array[end]]):\n",
    "                return True\n",
    "        start = end\n",
    "    return False\n",
    "\n",
    "def solve(R_sets):\n",
    "    n = len(R_sets)\n",
    "    if n==1:\n",
    "        # denote the only element as R\n",
    "        # return list of pairs [ (R.l, R.h), (R.r, 0) ]\n",
    "        return [(R_sets[0][0],R_sets[0][2]),(R_sets[0][1],0)]\n",
    "    \n",
    "    gamma_1 = solve(R_sets[:n//2])\n",
    "    gamma_2 = solve(R_sets[n//2:])\n",
    "\n",
    "    # merge\n",
    "    for i in gamma_2:\n",
    "        if isInside(i,gamma_1):\n",
    "            if i[1]==0:\n",
    "                continue\n",
    "            else:\n",
    "                while isInside(i,gamma_1):\n",
    "                    i = (i[0]+1,i[1])\n",
    "        gamma_1.append(i)\n",
    "        gamma_1.sort(key=lambda x: x[0])\n",
    "    return gamma_1\n",
    "\n",
    "\n",
    "solve(R_sets)\n",
    "    \n",
    "\n",
    "\n",
    "    \n",
    "\n",
    "    \n"
   ]
  },
  {
   "cell_type": "code",
   "execution_count": 3,
   "metadata": {},
   "outputs": [
    {
     "data": {
      "text/plain": [
       "[[2, 10.0], [3, 15.0], [7, 12.0], [12, 0.0], [15, 10.0], [20, 8.0], [24, 0.0]]"
      ]
     },
     "execution_count": 3,
     "metadata": {},
     "output_type": "execute_result"
    }
   ],
   "source": [
    "# Q5 with numpy\n",
    "import numpy as np\n",
    "\n",
    "# 给定的长方形集合，格式为[(左下角x坐标, 右上角x坐标, 高度), ...]\n",
    "rectangles = [(2, 9, 10), (3, 7, 15), (5, 12, 12), (15, 20, 10), (19, 24, 8)]\n",
    "\n",
    "# 初始化一个25x15的ndarray，所有元素初始值为0\n",
    "grid = np.zeros((15, 25))\n",
    "\n",
    "# 遍历长方形，标记被框住的区域为1\n",
    "for left, right, height in rectangles:\n",
    "    grid[:height, left:right] = 1\n",
    "\n",
    "# 沿着x轴对数组进行求和\n",
    "A = grid.sum(axis=0)\n",
    "\n",
    "results = []\n",
    "for i in range(1,len(A)):\n",
    "    if abs(A[i]-A[i-1])>0:\n",
    "        results.append([i,A[i]])\n",
    "results\n",
    "\n",
    "# O(n)"
   ]
  }
 ],
 "metadata": {
  "kernelspec": {
   "display_name": "Python 3",
   "language": "python",
   "name": "python3"
  },
  "language_info": {
   "codemirror_mode": {
    "name": "ipython",
    "version": 3
   },
   "file_extension": ".py",
   "mimetype": "text/x-python",
   "name": "python",
   "nbconvert_exporter": "python",
   "pygments_lexer": "ipython3",
   "version": "3.9.6"
  }
 },
 "nbformat": 4,
 "nbformat_minor": 2
}
