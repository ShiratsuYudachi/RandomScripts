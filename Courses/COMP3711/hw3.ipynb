{
 "cells": [
  {
   "cell_type": "code",
   "execution_count": 9,
   "metadata": {},
   "outputs": [
    {
     "name": "stdout",
     "output_type": "stream",
     "text": [
      "[1, 0, 4]\n"
     ]
    }
   ],
   "source": [
    "def getMin(A, a1, a2, a3):\n",
    "    if A[a1] < A[a2] and A[a1] < A[a3]:\n",
    "        return a1\n",
    "    elif A[a2] < A[a1] and A[a2] < A[a3]:\n",
    "        return a2\n",
    "    else:\n",
    "        return a3\n",
    "\n",
    "\n",
    "def solve(A):\n",
    "    i = 0\n",
    "    selected = []\n",
    "    while i<len(A)-3:\n",
    "        k = getMin(A, i+1, i+2, i+3)\n",
    "        selected.append(A[k])\n",
    "        i = k\n",
    "    return selected\n",
    "\n",
    "print(solve([3,1,2,4,0,4,5,5]))\n",
    "\n",
    "\t"
   ]
  },
  {
   "cell_type": "code",
   "execution_count": 16,
   "metadata": {},
   "outputs": [
    {
     "name": "stdout",
     "output_type": "stream",
     "text": [
      "1\n"
     ]
    }
   ],
   "source": [
    "def minimum_matching_sum(A, B):\n",
    "    n = len(A)\n",
    "    # Initialize a (n+1) x (n+1) DP table with infinity\n",
    "    M = [[float('inf')] * (n + 1) for _ in range(n + 1)]\n",
    "    \n",
    "    # Base case for matching the first elements\n",
    "    M[1][1] = abs(A[0] - B[0])\n",
    "\n",
    "    # Fill the DP table\n",
    "    for j in range(1, n + 1):\n",
    "        for i in range(1, n + 1):\n",
    "            # Calculate the minimum matching cost for A[1:i] to B[1:j]\n",
    "            if i == 1 and j == 1:\n",
    "                continue  # Already initialized\n",
    "            M[i][j] = float('inf')\n",
    "            for k in range(1, i + 1):\n",
    "                if j > 1:\n",
    "                    M[i][j] = min(M[i][j], M[k][j-1] + abs(A[i-1] - B[j-1]))\n",
    "                else:\n",
    "                    M[i][j] = min(M[i][j], abs(A[i-1] - B[j-1]) + (M[k][j-1] if k == 1 else 0))\n",
    "    \n",
    "    # Extract the result for M[n][n]\n",
    "    result = M[n][n]\n",
    "    return result\n",
    "\n",
    "# Test case example\n",
    "A = [0, 1, 2, 3, 2, 1, 0, 0]\n",
    "B = [0, 0, 1, 2, 3, 4, 2, 0]\n",
    "print(minimum_matching_sum(A, B))\n"
   ]
  },
  {
   "cell_type": "code",
   "execution_count": 25,
   "metadata": {},
   "outputs": [
    {
     "name": "stdout",
     "output_type": "stream",
     "text": [
      "2\n"
     ]
    }
   ],
   "source": [
    "def minimum_matching_sum(A, B):\n",
    "    n = len(A)\n",
    "    M = [[float('inf')] * (n + 1) for _ in range(n + 1)]\n",
    "    \n",
    "    # Base case: minimal cases of matching\n",
    "    M[0][0] = 0  # no elements to match\n",
    "    \n",
    "    # Fill the DP table\n",
    "    for i in range(1, n + 1):\n",
    "        for j in range(1, n + 1):\n",
    "            # Option 1: Match A[i-1] to B[j-1] and take the best of previous matches\n",
    "            if i > 0 and j > 0:\n",
    "                M[i][j] = min(M[i][j], M[i-1][j-1] + abs(A[i-1] - B[j-1]))\n",
    "            # Option 2: Match A[i-1] with multiple elements in B up to j-1\n",
    "            if i > 0:\n",
    "                M[i][j] = min(M[i][j], M[i-1][j] + abs(A[i-1] - B[j-1]))\n",
    "            # Option 3: Match B[j-1] with multiple elements in A up to i-1\n",
    "            if j > 0:\n",
    "                M[i][j] = min(M[i][j], M[i][j-1] + abs(A[i-1] - B[j-1]))\n",
    "    \n",
    "    # The answer is the minimal matching cost for all elements\n",
    "    return M[n][n]\n",
    "\n",
    "# Test case example\n",
    "A = [0, 1, 2, 3, 2, 1, 0, 0]\n",
    "B = [0, 0, 1, 2, 3, 4, 2, 0]\n",
    "print(minimum_matching_sum(A, B))\n"
   ]
  },
  {
   "cell_type": "code",
   "execution_count": 36,
   "metadata": {},
   "outputs": [
    {
     "name": "stdout",
     "output_type": "stream",
     "text": [
      "18\n"
     ]
    }
   ],
   "source": [
    "# fox\n",
    "\n",
    "def minsum(A,B):\n",
    "    n = len(A)\n",
    "    M = [[float('inf')] * (n) for _ in range(n)]\n",
    "\n",
    "    for i in range(n):\n",
    "        M[i][n-1]=sum([abs(A[l]-B[n-1]) for l in range(i+1,n)])\n",
    "\n",
    "    for j in range(n):\n",
    "        for i in range(n):\n",
    "            M[i][j] = min(M[i+1][j]+abs(A[i+1]-B[j]),M[i+1][j+1]+abs(A[i+1]-B[j]),M[i][j+1]+abs(A[i]-B[j]))\n",
    "    print(M)\n",
    "    return M[0][0]\n",
    "\n",
    "# Test case example\n",
    "A = [1,1,4,5,1,4]\n",
    "B = [1,9,1,9,8,1]\n",
    "print(minimum_matching_sum(A, B))"
   ]
  }
 ],
 "metadata": {
  "kernelspec": {
   "display_name": "Python 3",
   "language": "python",
   "name": "python3"
  },
  "language_info": {
   "codemirror_mode": {
    "name": "ipython",
    "version": 3
   },
   "file_extension": ".py",
   "mimetype": "text/x-python",
   "name": "python",
   "nbconvert_exporter": "python",
   "pygments_lexer": "ipython3",
   "version": "3.9.6"
  }
 },
 "nbformat": 4,
 "nbformat_minor": 2
}
