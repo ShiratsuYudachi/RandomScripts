{
 "cells": [
  {
   "cell_type": "code",
   "execution_count": 10,
   "metadata": {},
   "outputs": [
    {
     "name": "stdout",
     "output_type": "stream",
     "text": [
      "['001', '010', '100', '111']\n"
     ]
    }
   ],
   "source": [
    "def generate_odd_parity_strings(n, prefix='', results=None):\n",
    "    # initialize the result list\n",
    "    if results is None:\n",
    "        results = []\n",
    "\n",
    "    # base case, check if the string is odd parity, add it to the result list if yes\n",
    "    if n == 0:\n",
    "        if prefix.count('1') % 2 != 0:  # Check for odd parity\n",
    "            results.append(prefix)\n",
    "        return results\n",
    "\n",
    "    # Recursive calls for next level with both 0 and 1 appended to the prefix\n",
    "    # i.e. iterate all possible strings\n",
    "    generate_odd_parity_strings(n - 1, prefix + '0', results)\n",
    "    generate_odd_parity_strings(n - 1, prefix + '1', results)\n",
    "\n",
    "    return results\n",
    "\n",
    "# Example usage\n",
    "n = 3  # For demonstration\n",
    "print(generate_odd_parity_strings(n))\n"
   ]
  },
  {
   "cell_type": "code",
   "execution_count": null,
   "metadata": {},
   "outputs": [],
   "source": [
    "\n",
    "# the following pseudo follows the syntax of Python\n",
    "# where the returned list is also Python List\n",
    "\n",
    "def getOddParityStringOf(n:int):\n",
    "\t# base case\n",
    "\tresult = []\n",
    "\tif n<1:\n",
    "\t\treturn result;\n",
    "\tif n==1:\n",
    "\t\treturn [1]\n",
    "\tif n==2:\n",
    "\t\treturn [10,01]\n",
    "\tif n==3:\n",
    "\t\treturn [100,010,001,111]\n",
    "\t\n",
    "\t# recursive case\n",
    "\t\n",
    "\tfor i in getOddParityStringOf(n-1):\n",
    "\t\tresult.append(i+'0')\n",
    "\t\n",
    "\t# Complement: the complement set of\n",
    "\t# given bit string set with same length\n",
    "\tfor i in Complement(getOddParityStringOf(n-1)):\n",
    "\t\tresult.append(i+'1')\n",
    "\t\n",
    "\treturn result\n",
    "\t\n",
    "\t# all n-1 +0\n",
    "\t# and all complementof n-1 +1\n",
    "\t\n"
   ]
  },
  {
   "cell_type": "code",
   "execution_count": 24,
   "metadata": {},
   "outputs": [
    {
     "name": "stdout",
     "output_type": "stream",
     "text": [
      "[2, 3, 4, 5, 6, 7, 8, 9, 22, 31, 114, 514]\n"
     ]
    }
   ],
   "source": [
    "# Q4\n",
    "def mergeTwo(arr1, arr2):\n",
    "    \"\"\"\n",
    "    合并两个已排序的数组\n",
    "    \"\"\"\n",
    "    i, j = 0, 0\n",
    "    result = []\n",
    "    while i < len(arr1) and j < len(arr2):\n",
    "        if arr1[i] < arr2[j]:\n",
    "            result.append(arr1[i])\n",
    "            i += 1\n",
    "        else:\n",
    "            result.append(arr2[j])\n",
    "            j += 1\n",
    "    result.extend(arr1[i:])\n",
    "    result.extend(arr2[j:])\n",
    "    return result\n",
    "\n",
    "def merge(arrays):\n",
    "    # arrays: list containing list A1 ~ list Ak, like a 2d array\n",
    "    if len(arrays) == 0:\n",
    "        return []\n",
    "    if len(arrays) == 1:\n",
    "        return arrays[0]\n",
    "    if len(arrays) == 2:\n",
    "        return mergeTwo(arrays[0],arrays[1])\n",
    "    mid = len(arrays)//2\n",
    "    array1 = merge(arrays[:mid]) # call merge() recursively with first half of array\n",
    "    array2 = merge(arrays[mid:]) # call merge() recursively with second half of array\n",
    "    return mergeTwo(array1,array2)\n",
    "\n",
    "arrays = [\n",
    "    [4, 7, 114, 514],\n",
    "    [2, 5, 8, 31],\n",
    "    [3, 6, 9,22]\n",
    "]\n",
    "print(merge(arrays))"
   ]
  }
 ],
 "metadata": {
  "kernelspec": {
   "display_name": "Python 3",
   "language": "python",
   "name": "python3"
  },
  "language_info": {
   "codemirror_mode": {
    "name": "ipython",
    "version": 3
   },
   "file_extension": ".py",
   "mimetype": "text/x-python",
   "name": "python",
   "nbconvert_exporter": "python",
   "pygments_lexer": "ipython3",
   "version": "3.9.6"
  }
 },
 "nbformat": 4,
 "nbformat_minor": 2
}
