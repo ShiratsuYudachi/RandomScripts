{
 "cells": [
  {
   "cell_type": "code",
   "execution_count": 1,
   "metadata": {},
   "outputs": [
    {
     "name": "stdout",
     "output_type": "stream",
     "text": [
      "(4,4)=0;\n",
      "\n",
      "(3,4)=3;\n",
      "\n",
      "(2,4)=4;\n",
      "\n",
      "(1,4)=4;\n",
      "\n",
      "(0,4)=7;\n",
      "\n",
      "(4,3)=1;\n",
      "\n",
      "(3,3)=1;\n",
      "\n",
      "(2,3)=4;\n",
      "\n",
      "(1,3)=5;\n",
      "\n",
      "(0,3)=5;\n",
      "\n",
      "(4,2)=3;\n",
      "\n",
      "(3,2)=3;\n",
      "\n",
      "(2,2)=3;\n",
      "\n",
      "(1,2)=4;\n",
      "\n",
      "(0,2)=6;\n",
      "\n",
      "(4,1)=4;\n",
      "\n",
      "(3,1)=4;\n",
      "\n",
      "(2,1)=7;\n",
      "\n",
      "(1,1)=5;\n",
      "\n",
      "(0,1)=5;\n",
      "\n",
      "(4,0)=4;\n",
      "\n",
      "(3,0)=4;\n",
      "\n",
      "(2,0)=8;\n",
      "\n",
      "(1,0)=5;\n",
      "\n",
      "(0,0)=5;\n",
      "\n",
      "[[5, 5, 6, 5, 7, 10], [5, 5, 4, 5, 4, 10], [8, 7, 3, 4, 4, 7], [4, 4, 3, 1, 3, 3], [4, 4, 3, 1, 0, 3], [10, 6, 5, 3, 3, 0]]\n",
      "5\n"
     ]
    }
   ],
   "source": [
    "# fox\n",
    "\n",
    "def minsum(A,B):\n",
    "    n = len(A)\n",
    "    M = [[float('inf')] * (n) for _ in range(n)]\n",
    "\n",
    "    for i in range(n):\n",
    "        M[i][n-1]=sum([abs(A[l]-B[n-1]) for l in range(i+1,n)])\n",
    "\n",
    "    for j in range(n):\n",
    "        M[n-1][j]=sum([abs(A[n-1]-B[l]) for l in range(j+1,n)])\n",
    "    \n",
    "    for j in range(n-2,-1,-1):\n",
    "        for i in range(n-2,-1,-1):\n",
    "            M[i][j] = min(M[i+1][j]+abs(A[i+1]-B[j]),M[i+1][j+1]+abs(A[i+1]-B[j]),M[i][j+1]+abs(A[i]-B[j]))\n",
    "            print(\"(\"+str(i)+\",\"+str(j)+\")=\"+str(M[i][j])+\";\")\n",
    "            print()\n",
    "    print(M)\n",
    "    return M[0][0]\n",
    "\n",
    "# Test case example\n",
    "A = [1,1,4,5,1,4]\n",
    "B = [1,0,3,2,4,1]\n",
    "print(minsum(A, B))"
   ]
  },
  {
   "cell_type": "code",
   "execution_count": 33,
   "metadata": {},
   "outputs": [
    {
     "data": {
      "text/plain": [
       "[3, 2, 1, 0]"
      ]
     },
     "execution_count": 33,
     "metadata": {},
     "output_type": "execute_result"
    }
   ],
   "source": [
    "n = 5\n",
    "list(range(n-2,-1,-1))"
   ]
  },
  {
   "cell_type": "code",
   "execution_count": null,
   "metadata": {},
   "outputs": [],
   "source": []
  }
 ],
 "metadata": {
  "kernelspec": {
   "display_name": "Python 3",
   "language": "python",
   "name": "python3"
  },
  "language_info": {
   "codemirror_mode": {
    "name": "ipython",
    "version": 3
   },
   "file_extension": ".py",
   "mimetype": "text/x-python",
   "name": "python",
   "nbconvert_exporter": "python",
   "pygments_lexer": "ipython3",
   "version": "3.9.12"
  }
 },
 "nbformat": 4,
 "nbformat_minor": 2
}
