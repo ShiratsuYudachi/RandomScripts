{
 "cells": [
  {
   "cell_type": "code",
   "execution_count": 15,
   "metadata": {},
   "outputs": [
    {
     "name": "stdout",
     "output_type": "stream",
     "text": [
      "[[6, 6, 4, 3, 5], [6, 7, 5, 4, 3], [4, 5, 4, 4, 4], [5, 4, 3, 3, 4], [12, 8, 5, 3, 2]]\n",
      "6\n"
     ]
    }
   ],
   "source": [
    "# fox\n",
    "\n",
    "def minsum(A,B):\n",
    "    n = len(A)\n",
    "    M = [[float('inf')] * (n) for _ in range(n)]\n",
    "\n",
    "    for i in range(n):\n",
    "        M[i][n-1]=sum([abs(A[l]-B[n-1]) for l in range(i+1,n)])+abs(A[i]-B[n-2])\n",
    "\n",
    "    for j in range(n):\n",
    "        M[n-1][j]=sum([abs(A[n-1]-B[l]) for l in range(j,n)])\n",
    "    \n",
    "    for j in range(n-2,-1,-1):\n",
    "        for i in range(n-2,-1,-1):\n",
    "            if j==0:\n",
    "               M[i][j] = min([M[i][1]] + [M[k][1]+sum([abs(A[l]-B[0]) for l in range(i,k)]) for k in range(i+1,n)])\n",
    "            M[i][j] = min(M[i+1][j]-abs(A[i+1]-B[j-1])+abs(A[i+1]-B[j]),M[i+1][j+1],M[i][j+1])+abs(A[i]-B[j-1])\n",
    "            # print(\"(\"+str(i)+\",\"+str(j)+\")=\"+str(M[i][j])+\";\")\n",
    "            # print()\n",
    "    print(M)\n",
    "    return M[0][0]\n",
    "\n",
    "# Test case example\n",
    "A = [2, 3, 2, 1, 4]\n",
    "B = [0, 1, 2, 3, 2]\n",
    "print(minsum(A, B))"
   ]
  }
 ],
 "metadata": {
  "kernelspec": {
   "display_name": "Python 3",
   "language": "python",
   "name": "python3"
  },
  "language_info": {
   "codemirror_mode": {
    "name": "ipython",
    "version": 3
   },
   "file_extension": ".py",
   "mimetype": "text/x-python",
   "name": "python",
   "nbconvert_exporter": "python",
   "pygments_lexer": "ipython3",
   "version": "3.9.12"
  }
 },
 "nbformat": 4,
 "nbformat_minor": 2
}
