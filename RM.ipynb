{
 "cells": [
  {
   "cell_type": "code",
   "execution_count": 26,
   "metadata": {},
   "outputs": [
    {
     "name": "stdout",
     "output_type": "stream",
     "text": [
      "球体受到的加速度为: 1.439375 m/s^2, 5m处位移=0.06813609467455622m\n"
     ]
    }
   ],
   "source": [
    "import math\n",
    "def calculate_acceleration(v, r, rho_material=1000):\n",
    "    \"\"\"\n",
    "    计算球体在给定速度和半径下受到的加速度。\n",
    "    \n",
    "    参数:\n",
    "    v - 气流速度（m/s）\n",
    "    r - 球体半径（m）\n",
    "    rho_material - 球体材料的密度（kg/m^3），默认为塑料的密度1000 kg/m^3\n",
    "    \n",
    "    返回:\n",
    "    受到的加速度（m/s^2）\n",
    "    \"\"\"\n",
    "    # 空气密度和阻力系数\n",
    "    rho_air = 1.225  # 空气密度, kg/m^3\n",
    "    CD = 0.47        # 阻力系数, 无单位\n",
    "    \n",
    "    # 计算迎风面积\n",
    "    A = math.pi * r**2  # 迎风面积, m^2\n",
    "    \n",
    "    # 计算阻力\n",
    "    FD = 0.5 * rho_air * v**2 * CD * A\n",
    "    \n",
    "    # 计算球体质量\n",
    "    V = (4/3) * math.pi * r**3  # 球体体积, m^3\n",
    "    m = rho_material * V       # 球体质量, kg\n",
    "    \n",
    "    # 计算加速度\n",
    "    a = FD / m\n",
    "\n",
    "    delta_x = 3 - 1  # 气流覆盖的x轴距离\n",
    "    v_x = 13\n",
    "    target_distance = 3\n",
    "    t = delta_x / v_x  # 穿越时间, s\n",
    "    s = 0.5 * a * t**2 + a*t*(target_distance/v_x)  # y轴上的位移\n",
    "    return a,s\n",
    "\n",
    "# 示例：计算速度为10m/s，半径为0.5m的塑料球受到的加速度\n",
    "v = 4  # 速度, m/s\n",
    "r = 0.0024  # 半径, m\n",
    "a,s = calculate_acceleration(v, r)\n",
    "print(f\"球体受到的加速度为: {a} m/s^2, 5m处位移={s}m\")\n"
   ]
  }
 ],
 "metadata": {
  "kernelspec": {
   "display_name": "Python 3",
   "language": "python",
   "name": "python3"
  },
  "language_info": {
   "codemirror_mode": {
    "name": "ipython",
    "version": 3
   },
   "file_extension": ".py",
   "mimetype": "text/x-python",
   "name": "python",
   "nbconvert_exporter": "python",
   "pygments_lexer": "ipython3",
   "version": "3.12.2"
  }
 },
 "nbformat": 4,
 "nbformat_minor": 2
}
